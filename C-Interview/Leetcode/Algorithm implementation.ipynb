{
 "cells": [
  {
   "cell_type": "code",
   "execution_count": 13,
   "id": "65d2aea1",
   "metadata": {},
   "outputs": [
    {
     "name": "stdout",
     "output_type": "stream",
     "text": [
      "LSP: [0, 0, 1, 2, 0]\n",
      "True\n"
     ]
    }
   ],
   "source": [
    "# KMP\n",
    "def calculate_LSP(pattern):\n",
    "    LSP = [0]\n",
    "    prefix_len = 0\n",
    "    i = 1\n",
    "    \n",
    "    while i < len(pattern):\n",
    "        # AA\n",
    "        if pattern[prefix_len] == pattern[i]:\n",
    "            prefix_len += 1\n",
    "            LSP.append(prefix_len)\n",
    "            i += 1\n",
    "        else:\n",
    "            ## AB\n",
    "            if prefix_len == 0:\n",
    "                LSP.append(0)\n",
    "                i += 1\n",
    "            ## AAC\n",
    "            else:\n",
    "                prefix_len = LSP[prefix_len - 1]\n",
    "    return LSP\n",
    "    \n",
    "            \n",
    "\n",
    "def KMP(main, pattern):\n",
    "    LSP = calculate_LSP(pattern)\n",
    "    print(f'LSP: {LSP}')\n",
    "    j = 0\n",
    "    i = 0\n",
    "    while i < len(main):\n",
    "        if pattern[j] == main[i]:\n",
    "            if j == len(pattern)-1:\n",
    "                return True\n",
    "            j += 1\n",
    "            i += 1\n",
    "        elif j == 0:\n",
    "            i += 1\n",
    "        else:\n",
    "            j = LSP[j-1]\n",
    "    return False\n",
    "\n",
    "main = \"ABABABCAA\"\n",
    "pattern = \"ABABC\"\n",
    "print(KMP(main, pattern))"
   ]
  }
 ],
 "metadata": {
  "kernelspec": {
   "display_name": "Python 3 (ipykernel)",
   "language": "python",
   "name": "python3"
  },
  "language_info": {
   "codemirror_mode": {
    "name": "ipython",
    "version": 3
   },
   "file_extension": ".py",
   "mimetype": "text/x-python",
   "name": "python",
   "nbconvert_exporter": "python",
   "pygments_lexer": "ipython3",
   "version": "3.7.16"
  }
 },
 "nbformat": 4,
 "nbformat_minor": 5
}
